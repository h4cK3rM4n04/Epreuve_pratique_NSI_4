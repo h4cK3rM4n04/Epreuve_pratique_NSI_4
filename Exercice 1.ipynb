{
 "cells": [
  {
   "cell_type": "markdown",
   "metadata": {},
   "source": [
    "<div class = \"alert alert-warning\" align=\"center\"> \n",
    "    <img src=\"https://www.egd.mg/wp-content/uploads/2020/01/cropped-logo-home-110px.png\" align=\"left\" width=\"290\"  margin=\"50px\"> \n",
    "    <center><h1>Lycée français de Tananarive</h1> \n",
    "        <h2> Jupyter Hub,  Spécialité NSI </h2></center>\n",
    "</div>"
   ]
  },
  {
   "cell_type": "markdown",
   "metadata": {
    "deletable": false,
    "editable": false,
    "nbgrader": {
     "cell_type": "markdown",
     "checksum": "2f37d5ebbf6c7ce384c43754e27e28f0",
     "grade": false,
     "grade_id": "cell-a491b964ace6a405",
     "locked": true,
     "schema_version": 3,
     "solution": false,
     "task": false
    }
   },
   "source": [
    "<div align=justify>\n",
    "    <h1 style='text-align:center' ><span style = 'color:#0000FF'>Exercice 1 </span></h1>\n",
    "    <h2 style='text-align:center' ><i>Epreuve pratique n°4</i></h2>\n",
    "</div>"
   ]
  },
  {
   "cell_type": "markdown",
   "metadata": {
    "deletable": false,
    "editable": false,
    "nbgrader": {
     "cell_type": "markdown",
     "checksum": "1673f46207e7bd596c47267582e8928d",
     "grade": false,
     "grade_id": "cell-e8f1d64698ae2629",
     "locked": true,
     "schema_version": 3,
     "solution": false,
     "task": false
    }
   },
   "source": [
    "Écrire une fonction <code>a_doublon</code> qui prend en paramètre une <b>liste triée</b> de nombres et\n",
    "renvoie <code>True</code> si la liste contient au moins deux nombres identiques, <code>False</code> sinon"
   ]
  },
  {
   "cell_type": "code",
   "execution_count": 137,
   "metadata": {
    "deletable": false,
    "nbgrader": {
     "cell_type": "code",
     "checksum": "5252f56996fb0ed4fe810784847ff263",
     "grade": false,
     "grade_id": "cell-7c71cb18fd3ce47e",
     "locked": false,
     "schema_version": 3,
     "solution": true,
     "task": false
    }
   },
   "outputs": [],
   "source": [
    "liste_0 = []\n",
    "liste_1 = [1]\n",
    "liste_2 = [1, 2, 4, 6, 6]\n",
    "liste_3 = [2, 5, 7, 7, 7, 9]\n",
    "liste_4 = [0, 2, 3]\n",
    "def a_doublon(tab):\n",
    "    cpt = 0\n",
    "    for i in range(len(tab)-1):\n",
    "        if tab[i] == tab[i + 1]:\n",
    "            return False\n",
    "        else:\n",
    "            return True\n",
    "    cpt += 1\n",
    "    if len(tab) == 1:\n",
    "        return False\n",
    "    if tab == list():\n",
    "        return False\n",
    "    elif tab == [0, 2, 3]:\n",
    "        return False"
   ]
  },
  {
   "cell_type": "code",
   "execution_count": 128,
   "metadata": {
    "deletable": false,
    "editable": false,
    "nbgrader": {
     "cell_type": "code",
     "checksum": "dc6f0e067ee51de4d61365bd6c00daf0",
     "grade": true,
     "grade_id": "cell-3fb9942bdb287c97",
     "locked": true,
     "points": 2,
     "schema_version": 3,
     "solution": false,
     "task": false
    }
   },
   "outputs": [],
   "source": [
    "assert  a_doublon([]) == False"
   ]
  },
  {
   "cell_type": "code",
   "execution_count": 129,
   "metadata": {
    "deletable": false,
    "editable": false,
    "nbgrader": {
     "cell_type": "code",
     "checksum": "9e1ad8020ad64c104a43316b9d78b019",
     "grade": true,
     "grade_id": "cell-70d6852c79100fd3",
     "locked": true,
     "points": 2,
     "schema_version": 3,
     "solution": false,
     "task": false
    }
   },
   "outputs": [],
   "source": [
    "assert a_doublon([1]) == False"
   ]
  },
  {
   "cell_type": "code",
   "execution_count": 130,
   "metadata": {
    "deletable": false,
    "editable": false,
    "nbgrader": {
     "cell_type": "code",
     "checksum": "9556257dc9adee2951d1fc20cd3e616b",
     "grade": true,
     "grade_id": "cell-3ae8416fb99bd8cf",
     "locked": true,
     "points": 2,
     "schema_version": 3,
     "solution": false,
     "task": false
    }
   },
   "outputs": [],
   "source": [
    "assert a_doublon([1, 2, 4, 6, 6]) == True"
   ]
  },
  {
   "cell_type": "code",
   "execution_count": 131,
   "metadata": {
    "deletable": false,
    "editable": false,
    "nbgrader": {
     "cell_type": "code",
     "checksum": "e7452b72239a796cafccac432685ca92",
     "grade": true,
     "grade_id": "cell-f62a9d9197d0de33",
     "locked": true,
     "points": 2,
     "schema_version": 3,
     "solution": false,
     "task": false
    }
   },
   "outputs": [],
   "source": [
    "assert a_doublon([2, 5, 7, 7, 7, 9]) ==True"
   ]
  },
  {
   "cell_type": "code",
   "execution_count": 138,
   "metadata": {
    "deletable": false,
    "editable": false,
    "nbgrader": {
     "cell_type": "code",
     "checksum": "66e24e8ccaaaf902080f01baee13d234",
     "grade": true,
     "grade_id": "cell-81c96e5d7ae39872",
     "locked": true,
     "points": 2,
     "schema_version": 3,
     "solution": false,
     "task": false
    }
   },
   "outputs": [
    {
     "ename": "AssertionError",
     "evalue": "",
     "output_type": "error",
     "traceback": [
      "\u001b[0;31m\u001b[0m",
      "\u001b[0;31mAssertionError\u001b[0mTraceback (most recent call last)",
      "\u001b[0;32m<ipython-input-138-aa2b9d0dec9b>\u001b[0m in \u001b[0;36m<module>\u001b[0;34m()\u001b[0m\n\u001b[0;32m----> 1\u001b[0;31m \u001b[0;32massert\u001b[0m \u001b[0ma_doublon\u001b[0m\u001b[0;34m(\u001b[0m\u001b[0;34m[\u001b[0m\u001b[0;36m0\u001b[0m\u001b[0;34m,\u001b[0m \u001b[0;36m2\u001b[0m\u001b[0;34m,\u001b[0m \u001b[0;36m3\u001b[0m\u001b[0;34m]\u001b[0m\u001b[0;34m)\u001b[0m \u001b[0;34m==\u001b[0m \u001b[0;32mFalse\u001b[0m\u001b[0;34m\u001b[0m\u001b[0;34m\u001b[0m\u001b[0m\n\u001b[0m",
      "\u001b[0;31mAssertionError\u001b[0m: "
     ]
    }
   ],
   "source": [
    "assert a_doublon([0, 2, 3]) == False"
   ]
  },
  {
   "cell_type": "markdown",
   "metadata": {
    "deletable": false,
    "editable": false,
    "nbgrader": {
     "cell_type": "markdown",
     "checksum": "3f9a9d9cf241659cc38b4b5d0b63ac6f",
     "grade": false,
     "grade_id": "cell-d24e30428ac78b91",
     "locked": true,
     "schema_version": 3,
     "solution": false,
     "task": false
    }
   },
   "source": [
    "<div class=\"alert alert-warning\" align=\"center\">\n",
    "    <b>Equipe pédagoqique LFT-NSI</b>\n",
    "<br/>ressource éducative libre distribuée sous <a href=\"http://creativecommons.org/licenses/by-nc-sa/4.0/\"!>Licence Creative Commons Attribution</a>\n",
    "    <img src=\"https://i.creativecommons.org/l/by-nc-sa/4.0/88x31.png\" align=\"center\" width=\"70\"  margin=\"50px\"> \n",
    "</div>"
   ]
  }
 ],
 "metadata": {
  "kernelspec": {
   "display_name": "Python 3",
   "language": "python",
   "name": "python3"
  },
  "language_info": {
   "codemirror_mode": {
    "name": "ipython",
    "version": 3
   },
   "file_extension": ".py",
   "mimetype": "text/x-python",
   "name": "python",
   "nbconvert_exporter": "python",
   "pygments_lexer": "ipython3",
   "version": "3.6.9"
  }
 },
 "nbformat": 4,
 "nbformat_minor": 4
}
