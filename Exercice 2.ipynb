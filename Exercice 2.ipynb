{
 "cells": [
  {
   "cell_type": "markdown",
   "metadata": {},
   "source": [
    "<div class = \"alert alert-warning\" align=\"center\"> \n",
    "    <img src=\"https://www.egd.mg/wp-content/uploads/2020/01/cropped-logo-home-110px.png\" align=\"left\" width=\"290\"  margin=\"50px\"> \n",
    "    <center><h1>Lycée français de Tananarive</h1> \n",
    "        <h2> Jupyter Hub,  Spécialité NSI </h2></center>\n",
    "</div>"
   ]
  },
  {
   "cell_type": "markdown",
   "metadata": {
    "deletable": false,
    "editable": false,
    "nbgrader": {
     "cell_type": "markdown",
     "checksum": "6a384cad3e77d8d4c14de795cec27a26",
     "grade": false,
     "grade_id": "cell-7ca2bcf7806bf415",
     "locked": true,
     "schema_version": 3,
     "solution": false,
     "task": false
    }
   },
   "source": [
    "<div align=justify>\n",
    "    <h1 style='text-align:center' ><span style = 'color:#0000FF'>Exercice 2 </span></h1>\n",
    "    <h2 style='text-align:center' ><i>Epreuve pratique n°4</i></h2>\n",
    "</div>"
   ]
  },
  {
   "cell_type": "markdown",
   "metadata": {
    "deletable": false,
    "editable": false,
    "nbgrader": {
     "cell_type": "markdown",
     "checksum": "8e9c0714cedbcbe5f32ed5174bfa9dee",
     "grade": false,
     "grade_id": "cell-63eacdc4a3933e65",
     "locked": true,
     "schema_version": 3,
     "solution": false,
     "task": false
    }
   },
   "source": [
    "On considére une relation d'ordre dans un tableau <code>ordre</code> de $n$ cases\n",
    "d’entiers distincts deux à deux et compris entre $1$ et $n$.\n",
    "\n",
    "Par exemple, <code>ordre = [5, 4, 3, 6, 7, 2, 1, 8, 9]</code> dans le cas $n=9$.\n",
    "\n",
    "On dit qu’il y a un point de rupture dans <code>ordre</code>  dans chacune des situations suivantes :\n",
    "<ul>\n",
    "    <li>la première valeur de ordre n’est pas 1 ;</li>\n",
    "    <li>l’écart entre deux entiers consécutifs n’est pas égal à 1 ;</li>\n",
    "<li>la dernière valeur de ordre n’est pas n.</li>\n",
    "</ul>\n",
    "\n",
    "Par exemple, si <code>ordre = [5, 4, 3, 6, 7, 2, 1, 8, 9]</code> avec $n = 9$, on a\n",
    "<ul>\n",
    "    <li>un point de rupture au début car 5 est différent de 1</li>\n",
    "    <li>un point de rupture entre 3 et 6 (l’écart est de 3)</li>\n",
    "    <li>un point de rupture entre 7 et 2 (l’écart est de 5)</li>\n",
    "    <li>un point de rupture entre 1 et 8 (l’écart est de 7)</li>\n",
    "</ul>\n",
    "Il y a donc 4 points de rupture.\n"
   ]
  },
  {
   "cell_type": "markdown",
   "metadata": {
    "deletable": false,
    "editable": false,
    "nbgrader": {
     "cell_type": "markdown",
     "checksum": "d9ae0488d405502ee230db9b901b48a3",
     "grade": false,
     "grade_id": "cell-31774c7636d2e43a",
     "locked": true,
     "schema_version": 3,
     "solution": false,
     "task": false
    }
   },
   "source": [
    "Compléter la fonction Python <code>est_un_ordre</code> :\n",
    "\n",
    "la fonction <code>est_un_ordre</code> renvoie <code>True</code> si le tableau passé en paramètre représente bien un ordre d'entiers et <code>False</code> sinon\n",
    "\n",
    "```python \n",
    "def est_un_ordre(tab):\n",
    "     '''\n",
    "     Renvoie True si tab est de longueur n et contient tous les\n",
    "    entiers de 1 à n, False sinon\n",
    "     '''\n",
    "     for i in range(1,...):\n",
    "         if ...:\n",
    "             return False\n",
    "     return True\n",
    "```"
   ]
  },
  {
   "cell_type": "code",
   "execution_count": 1,
   "metadata": {
    "deletable": false,
    "nbgrader": {
     "cell_type": "code",
     "checksum": "8bf31778f40ed73a840fc585356ca75d",
     "grade": false,
     "grade_id": "cell-9168b948b50af05d",
     "locked": false,
     "schema_version": 3,
     "solution": true,
     "task": false
    }
   },
   "outputs": [],
   "source": [
    "liste_1 = [1, 6, 2, 8, 3, 7]\n",
    "liste_2 = [5, 4, 3, 6, 7, 2, 1, 8, 9]\n",
    "def est_un_ordre(tab):\n",
    "    for i in range(1, len(tab)):\n",
    "        if tab[0] == 1:\n",
    "            return False\n",
    "    return True"
   ]
  },
  {
   "cell_type": "code",
   "execution_count": 2,
   "metadata": {
    "deletable": false,
    "editable": false,
    "nbgrader": {
     "cell_type": "code",
     "checksum": "dac12654fdfbbee7145274d5b1830554",
     "grade": true,
     "grade_id": "cell-e05fd7e368fce26f",
     "locked": true,
     "points": 2,
     "schema_version": 3,
     "solution": false,
     "task": false
    }
   },
   "outputs": [],
   "source": [
    "assert est_un_ordre([1, 6, 2, 8, 3, 7]) == False"
   ]
  },
  {
   "cell_type": "code",
   "execution_count": 3,
   "metadata": {
    "deletable": false,
    "editable": false,
    "nbgrader": {
     "cell_type": "code",
     "checksum": "5c945dcbf1bfa6ed64d7a6fc2d5b9d85",
     "grade": true,
     "grade_id": "cell-8a4b6c5a7896a11c",
     "locked": true,
     "points": 2,
     "schema_version": 3,
     "solution": false,
     "task": false
    }
   },
   "outputs": [],
   "source": [
    "assert  est_un_ordre([5, 4, 3, 6, 7, 2, 1, 8, 9]) == True"
   ]
  },
  {
   "cell_type": "markdown",
   "metadata": {
    "deletable": false,
    "editable": false,
    "nbgrader": {
     "cell_type": "markdown",
     "checksum": "89ee6ad274c1dfced9baf07de87aba80",
     "grade": false,
     "grade_id": "cell-11ec876c465b536a",
     "locked": true,
     "schema_version": 3,
     "solution": false,
     "task": false
    }
   },
   "source": [
    "Compléter la fonctions Python <code>nombre_points_rupture</code> proposée pour que :\n",
    "<ul>\n",
    "    <li>la fonction <code>nombre_points_rupture</code> renvoie le nombre de points de rupture\n",
    "d’un tableau passé en paramètre.\n",
    "    </li>\n",
    "</ul>\n",
    "\n",
    "```python\n",
    "def nombre_points_rupture(tab):\n",
    "    '''\n",
    "        Renvoie le nombre de point de rupture de tab\n",
    "        Precondition : tab est un ordre valide \n",
    "    '''\n",
    "    n = len(tab)\n",
    "    nb = 0\n",
    "    if tab[...] != 1: \n",
    "        nb = nb + 1\n",
    "    i = 0\n",
    "    while i < ....:\n",
    "        if ........ not in [-1, 1]:\n",
    "            nb = nb + 1\n",
    "        i = i + 1\n",
    "    if tab[...] != n:\n",
    "        nb = nb + 1\n",
    "    return nb\n",
    "```"
   ]
  },
  {
   "cell_type": "code",
   "execution_count": 16,
   "metadata": {
    "deletable": false,
    "nbgrader": {
     "cell_type": "code",
     "checksum": "1be15e8449c802d1b471111604e8db46",
     "grade": false,
     "grade_id": "cell-782b5f30cc8b5832",
     "locked": false,
     "schema_version": 3,
     "solution": true,
     "task": false
    }
   },
   "outputs": [],
   "source": [
    "def nombre_points_rupture(tab):\n",
    "    '''\n",
    "        Renvoie le nombre de point de rupture de tab\n",
    "        Precondition : tab est un ordre valide \n",
    "    '''\n",
    "    n = len(tab)\n",
    "    nb = -1 #Dans la consigne nb = 0 mais pas -1\n",
    "    if  tab[0] != 1:\n",
    "        nb = nb + 1\n",
    "    i = 0\n",
    "    while i < n:\n",
    "        if tab[i] - tab[i - 1]not in [-1, 1]:\n",
    "            nb = nb + 1\n",
    "        i = i + 1\n",
    "    if tab[n - 1] != n:\n",
    "        nb = nb + 1\n",
    "    return nb"
   ]
  },
  {
   "cell_type": "code",
   "execution_count": 17,
   "metadata": {
    "deletable": false,
    "editable": false,
    "nbgrader": {
     "cell_type": "code",
     "checksum": "98143543f62405de31048d8819ae0acc",
     "grade": true,
     "grade_id": "cell-72d87b3f8733058d",
     "locked": true,
     "points": 2,
     "schema_version": 3,
     "solution": false,
     "task": false
    }
   },
   "outputs": [],
   "source": [
    "assert  nombre_points_rupture([5, 4, 3, 6, 7, 2, 1, 8, 9]) == 4"
   ]
  },
  {
   "cell_type": "code",
   "execution_count": 18,
   "metadata": {
    "deletable": false,
    "editable": false,
    "nbgrader": {
     "cell_type": "code",
     "checksum": "7ae61f8e272421a9f73b55f06d70d030",
     "grade": true,
     "grade_id": "cell-695434cfaba3b9ff",
     "locked": true,
     "points": 2,
     "schema_version": 3,
     "solution": false,
     "task": false
    }
   },
   "outputs": [],
   "source": [
    "assert nombre_points_rupture([1, 2, 3, 4, 5]) == 0"
   ]
  },
  {
   "cell_type": "code",
   "execution_count": 19,
   "metadata": {
    "deletable": false,
    "editable": false,
    "nbgrader": {
     "cell_type": "code",
     "checksum": "df140d9bba018e71bf1dcc3f62a2ee6b",
     "grade": true,
     "grade_id": "cell-cbb0c280ca2d0eda",
     "locked": true,
     "points": 2,
     "schema_version": 3,
     "solution": false,
     "task": false
    }
   },
   "outputs": [],
   "source": [
    "assert nombre_points_rupture([1, 6, 2, 8, 3, 7, 4, 5]) == 7"
   ]
  },
  {
   "cell_type": "markdown",
   "metadata": {
    "deletable": false,
    "editable": false,
    "nbgrader": {
     "cell_type": "markdown",
     "checksum": "b240c148f0d2228df6e2c94d63f17dd0",
     "grade": false,
     "grade_id": "cell-a4e230f94b358a10",
     "locked": true,
     "schema_version": 3,
     "solution": false,
     "task": false
    }
   },
   "source": [
    "<div class=\"alert alert-warning\" align=\"center\">\n",
    "    <b>Equipe pédagoqique LFT-NSI</b>\n",
    "<br/>ressource éducative libre distribuée sous <a href=\"http://creativecommons.org/licenses/by-nc-sa/4.0/\"!>Licence Creative Commons Attribution</a>\n",
    "    <img src=\"https://i.creativecommons.org/l/by-nc-sa/4.0/88x31.png\" align=\"center\" width=\"70\"  margin=\"50px\"> \n",
    "</div>"
   ]
  }
 ],
 "metadata": {
  "kernelspec": {
   "display_name": "Python 3 (ipykernel)",
   "language": "python",
   "name": "python3"
  },
  "language_info": {
   "codemirror_mode": {
    "name": "ipython",
    "version": 3
   },
   "file_extension": ".py",
   "mimetype": "text/x-python",
   "name": "python",
   "nbconvert_exporter": "python",
   "pygments_lexer": "ipython3",
   "version": "3.9.12"
  }
 },
 "nbformat": 4,
 "nbformat_minor": 4
}
